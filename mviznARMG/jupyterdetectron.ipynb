{
 "cells": [
  {
   "cell_type": "code",
   "execution_count": null,
   "id": "3981b173-8559-4f17-950f-58f4b247d019",
   "metadata": {},
   "outputs": [],
   "source": []
  },
  {
   "cell_type": "code",
   "execution_count": null,
   "id": "df3f179e-71b3-4545-9e3c-58aefd527400",
   "metadata": {},
   "outputs": [],
   "source": [
    "import sys\n",
    "import types\n",
    "\n",
    "# Minimal LooseVersion replacement\n",
    "class LooseVersion:\n",
    "    def __init__(self, v):\n",
    "        self.v = v\n",
    "    def __lt__(self, other):\n",
    "        return self.v < other.v\n",
    "    def __eq__(self, other):\n",
    "        return self.v == other.v\n",
    "    def __repr__(self):\n",
    "        return f\"LooseVersion({self.v})\"\n",
    "\n",
    "# Patch both 'distutils' and 'setuptools.distutils'\n",
    "fake_distutils = types.SimpleNamespace(version=types.SimpleNamespace(LooseVersion=LooseVersion))\n",
    "sys.modules['distutils'] = fake_distutils\n",
    "sys.modules['setuptools.distutils'] = fake_distutils\n",
    "\n",
    "\n",
    "import detectron2\n",
    "\n",
    "from detectron2.data.datasets import register_coco_instances\n",
    "from detectron2.data import MetadataCatalog\n",
    "from pycocotools.coco import COCO\n",
    "register_coco_instances(\n",
    "    \"clps_2020_train\", \n",
    "    {}, \n",
    "    \"/mnt/NFSDIR/ARMG-Project-Data/CLPS/images_2020-08-18.json\", \n",
    "    \"/mnt/NFSDIR/ARMG-Project-Data/CLPS/images_2020-08-18\"\n",
    ")\n",
    "\n",
    "\n",
    "from detectron2.config import get_cfg\n",
    "from detectron2 import model_zoo\n",
    "import os\n",
    "\n",
    "import sys\n",
    "sys.path.insert(0, \"detectron2_repo/projects/PointRend\")\n",
    "import point_rend\n",
    "\n",
    "cfg = get_cfg()\n",
    "point_rend.add_pointrend_config(cfg)  # 🔑 This injects keys like MODEL.ROI_MASK_HEAD.FC_DIM\n",
    "cfg.merge_from_file(\"detectron2_repo/projects/PointRend/configs/InstanceSegmentation/pointrend_rcnn_R_50_FPN_3x_coco.yaml\")\n",
    "cfg.MODEL.WEIGHTS = \"auxfiles/model_final_3c3198.pkl\"  #\"detectron2://PointRend/InstanceSegmentation/pointrend_rcnn_R_50_FPN_3x_coco/137849600/model_final_3c3198.pkl\"\n",
    "cfg.DATASETS.TRAIN = (\"clps_2020_train\",)\n",
    "cfg.DATASETS.TEST = ()\n",
    "cfg.DATALOADER.NUM_WORKERS = 2\n",
    "\n",
    "coco = COCO(\"/mnt/NFSDIR/ARMG-Project-Data/CLPS/images_2020-08-18.json\")\n",
    "CLASSES = [cat[\"name\"] for cat in coco.loadCats(coco.getCatIds())]\n",
    "\n",
    "cfg.SOLVER.IMS_PER_BATCH = 5\n",
    "cfg.SOLVER.BASE_LR = 0.005\n",
    "cfg.MODEL.POINT_HEAD.NUM_CLASSES = len(CLASSES)\n",
    "cfg.MODEL.ROI_HEADS.NUM_CLASSES = len(CLASSES)\n",
    "\n",
    "cfg.OUTPUT_DIR = \"/mnt/NFSDIR/ARMG-Project-Data/CLPS_pointrend_cl\"\n",
    "os.makedirs(cfg.OUTPUT_DIR, exist_ok=True)\n",
    "\n",
    "from pycocotools.coco import COCO\n",
    "print('\\n'.join(CLASSES),file=open(f'{cfg.OUTPUT_DIR}/classes.txt','w'))"
   ]
  },
  {
   "cell_type": "code",
   "execution_count": null,
   "id": "34c91302-ec73-4696-be2d-4447b4cafdf2",
   "metadata": {
    "scrolled": true
   },
   "outputs": [],
   "source": [
    "if 0:\n",
    "    from pycocotools.coco import COCO\n",
    "    coco = COCO(\"/mnt/NFSDIR/ARMG-Project-Data/CLPS/images_2020-08-18.json\")\n",
    "    print(coco.getCatIds())\n",
    "    print(coco.getImgIds())"
   ]
  },
  {
   "cell_type": "code",
   "execution_count": null,
   "id": "3d11c0fd-8e2e-4a4d-ac39-86f7fbab7207",
   "metadata": {
    "scrolled": true
   },
   "outputs": [],
   "source": [
    "from detectron2.engine import DefaultTrainer\n",
    "from detectron2.utils.events import CommonMetricPrinter, JSONWriter\n",
    "import os\n",
    "\n",
    "class TrainerNoTB(DefaultTrainer):\n",
    "    def build_writers(self):\n",
    "        return [\n",
    "            CommonMetricPrinter(self.cfg.SOLVER.MAX_ITER),\n",
    "            JSONWriter(os.path.join(self.cfg.OUTPUT_DIR, \"metrics.json\")),\n",
    "            # TensorboardXWriter is omitted to avoid distutils error\n",
    "        ]\n",
    "\n",
    "#from detectron2.engine import DefaultTrainer\n",
    "\n",
    "trainer = TrainerNoTB(cfg)\n",
    "trainer.resume_or_load(resume=False)\n",
    "trainer.train()"
   ]
  }
 ],
 "metadata": {
  "kernelspec": {
   "display_name": "Python 3 (ipykernel)",
   "language": "python",
   "name": "python3"
  },
  "language_info": {
   "codemirror_mode": {
    "name": "ipython",
    "version": 3
   },
   "file_extension": ".py",
   "mimetype": "text/x-python",
   "name": "python",
   "nbconvert_exporter": "python",
   "pygments_lexer": "ipython3",
   "version": "3.8.10"
  }
 },
 "nbformat": 4,
 "nbformat_minor": 5
}
