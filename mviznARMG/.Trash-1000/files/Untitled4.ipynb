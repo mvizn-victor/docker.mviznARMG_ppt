{
 "cells": [
  {
   "cell_type": "code",
   "execution_count": 1,
   "id": "526de4bb",
   "metadata": {},
   "outputs": [],
   "source": [
    "import cv2"
   ]
  },
  {
   "cell_type": "code",
   "execution_count": 10,
   "id": "cdbcdb69",
   "metadata": {},
   "outputs": [],
   "source": [
    "imf='/home/mvizn/tmp/21-53-55/extra/cnlsbb_height_012198_DT_2024-07-03-21-56-24-602530.jpg'"
   ]
  },
  {
   "cell_type": "code",
   "execution_count": 11,
   "id": "fdbe43f4",
   "metadata": {},
   "outputs": [],
   "source": [
    "im=cv2.imread(imf)"
   ]
  },
  {
   "cell_type": "code",
   "execution_count": 12,
   "id": "919c6088",
   "metadata": {},
   "outputs": [
    {
     "name": "stdout",
     "output_type": "stream",
     "text": [
      "to disable printing: helperfunprint=0\n",
      "pip install rpy2\n"
     ]
    },
    {
     "name": "stderr",
     "output_type": "stream",
     "text": [
      "<>:698: SyntaxWarning: \"is\" with a literal. Did you mean \"==\"?\n",
      "<ipython-input-12-7f5f83fd390a>:698: SyntaxWarning: \"is\" with a literal. Did you mean \"==\"?\n",
      "  if x is 0:\n"
     ]
    }
   ],
   "source": [
    "%run -i ~/helperfun.ipy"
   ]
  },
  {
   "cell_type": "code",
   "execution_count": 14,
   "id": "d8fff889",
   "metadata": {},
   "outputs": [],
   "source": [
    "yolo1=YOLO('TCDS/weights/TCDSnp.weights')"
   ]
  },
  {
   "cell_type": "code",
   "execution_count": 15,
   "id": "db5e5168",
   "metadata": {},
   "outputs": [],
   "source": [
    "yolo2=YOLO('TCDS/weights/TCDSsubyolo.weights')"
   ]
  },
  {
   "cell_type": "code",
   "execution_count": 16,
   "id": "3869c61e",
   "metadata": {},
   "outputs": [],
   "source": [
    "res1=yolo1.infer(im)"
   ]
  },
  {
   "cell_type": "code",
   "execution_count": 22,
   "id": "5dd999b6",
   "metadata": {},
   "outputs": [
    {
     "data": {
      "text/plain": [
       "array([[ 128,  193,  109,  101],\n",
       "       [1020,  193,  101,  136]], dtype=int32)"
      ]
     },
     "execution_count": 22,
     "metadata": {},
     "output_type": "execute_result"
    }
   ],
   "source": [
    "res1[2]"
   ]
  },
  {
   "cell_type": "code",
   "execution_count": 28,
   "id": "6b175cf6",
   "metadata": {},
   "outputs": [],
   "source": [
    "x1,y1,w,h=res1[2][1]"
   ]
  },
  {
   "cell_type": "code",
   "execution_count": 41,
   "id": "9eef1c02",
   "metadata": {},
   "outputs": [],
   "source": [
    "im2=im[y1:y1+(w)*4//2,x1:x1+w]"
   ]
  },
  {
   "cell_type": "code",
   "execution_count": 42,
   "id": "f071a189",
   "metadata": {},
   "outputs": [],
   "source": [
    "y1=y1-25\n",
    "w=w+50"
   ]
  },
  {
   "cell_type": "code",
   "execution_count": 43,
   "id": "7af5a9ab",
   "metadata": {},
   "outputs": [
    {
     "ename": "KeyboardInterrupt",
     "evalue": "",
     "output_type": "error",
     "traceback": [
      "\u001b[0;31m---------------------------------------------------------------------------\u001b[0m",
      "\u001b[0;31mKeyboardInterrupt\u001b[0m                         Traceback (most recent call last)",
      "\u001b[0;32m<ipython-input-43-1930e03a4b8d>\u001b[0m in \u001b[0;36m<module>\u001b[0;34m\u001b[0m\n\u001b[0;32m----> 1\u001b[0;31m \u001b[0mimswk\u001b[0m\u001b[0;34m(\u001b[0m\u001b[0mim\u001b[0m\u001b[0;34m[\u001b[0m\u001b[0my1\u001b[0m\u001b[0;34m:\u001b[0m\u001b[0my1\u001b[0m\u001b[0;34m+\u001b[0m\u001b[0;34m(\u001b[0m\u001b[0mw\u001b[0m\u001b[0;34m)\u001b[0m\u001b[0;34m*\u001b[0m\u001b[0;36m4\u001b[0m\u001b[0;34m//\u001b[0m\u001b[0;36m2\u001b[0m\u001b[0;34m,\u001b[0m\u001b[0mx1\u001b[0m\u001b[0;34m:\u001b[0m\u001b[0mx1\u001b[0m\u001b[0;34m+\u001b[0m\u001b[0mw\u001b[0m\u001b[0;34m]\u001b[0m\u001b[0;34m)\u001b[0m\u001b[0;34m\u001b[0m\u001b[0;34m\u001b[0m\u001b[0m\n\u001b[0m",
      "\u001b[0;32m<ipython-input-12-7f5f83fd390a>\u001b[0m in \u001b[0;36mimswk\u001b[0;34m(frame, t, name, s)\u001b[0m\n\u001b[1;32m    561\u001b[0m     \u001b[0;32mif\u001b[0m \u001b[0mk\u001b[0m\u001b[0;34m==\u001b[0m\u001b[0mord\u001b[0m\u001b[0;34m(\u001b[0m\u001b[0;34m'q'\u001b[0m\u001b[0;34m)\u001b[0m\u001b[0;34m:\u001b[0m\u001b[0;34m\u001b[0m\u001b[0;34m\u001b[0m\u001b[0m\n\u001b[1;32m    562\u001b[0m         \u001b[0mcv2\u001b[0m\u001b[0;34m.\u001b[0m\u001b[0mdestroyAllWindows\u001b[0m\u001b[0;34m(\u001b[0m\u001b[0;34m)\u001b[0m\u001b[0;34m\u001b[0m\u001b[0;34m\u001b[0m\u001b[0m\n\u001b[0;32m--> 563\u001b[0;31m         \u001b[0;32mraise\u001b[0m \u001b[0mKeyboardInterrupt\u001b[0m\u001b[0;34m\u001b[0m\u001b[0;34m\u001b[0m\u001b[0m\n\u001b[0m\u001b[1;32m    564\u001b[0m     \u001b[0;32mreturn\u001b[0m \u001b[0mk\u001b[0m\u001b[0;34m\u001b[0m\u001b[0;34m\u001b[0m\u001b[0m\n\u001b[1;32m    565\u001b[0m \u001b[0;32mdef\u001b[0m \u001b[0mdaw\u001b[0m\u001b[0;34m(\u001b[0m\u001b[0;34m)\u001b[0m\u001b[0;34m:\u001b[0m\u001b[0;34m\u001b[0m\u001b[0;34m\u001b[0m\u001b[0m\n",
      "\u001b[0;31mKeyboardInterrupt\u001b[0m: "
     ]
    }
   ],
   "source": [
    "imswk(im[y1:y1+(w)*4//2,x1:x1+w])"
   ]
  },
  {
   "cell_type": "code",
   "execution_count": 44,
   "id": "9ab5f47c",
   "metadata": {},
   "outputs": [
    {
     "data": {
      "text/plain": [
       "([], [], ())"
      ]
     },
     "execution_count": 44,
     "metadata": {},
     "output_type": "execute_result"
    }
   ],
   "source": [
    "yolo2.infer(im2)"
   ]
  },
  {
   "cell_type": "code",
   "execution_count": null,
   "id": "12903c26",
   "metadata": {},
   "outputs": [],
   "source": [
    "imswk(im2)"
   ]
  },
  {
   "cell_type": "code",
   "execution_count": null,
   "id": "96d8c08c",
   "metadata": {},
   "outputs": [],
   "source": [
    "cv2.imread('/tmp/21')"
   ]
  }
 ],
 "metadata": {
  "kernelspec": {
   "display_name": "Python 3 (ipykernel)",
   "language": "python",
   "name": "python3"
  },
  "language_info": {
   "codemirror_mode": {
    "name": "ipython",
    "version": 3
   },
   "file_extension": ".py",
   "mimetype": "text/x-python",
   "name": "python",
   "nbconvert_exporter": "python",
   "pygments_lexer": "ipython3",
   "version": "3.10.12"
  }
 },
 "nbformat": 4,
 "nbformat_minor": 5
}
