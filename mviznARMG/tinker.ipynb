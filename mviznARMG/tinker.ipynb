{
 "cells": [
  {
   "cell_type": "code",
   "execution_count": 3,
   "id": "1f48d537-208e-4ac8-a3c8-c802d7570f8b",
   "metadata": {},
   "outputs": [
    {
     "data": {
      "text/plain": [
       "'screen -dSm \"1\" bash -c \"\\necho running 1\\nwhile true; do\\n    echo running 1\\n    stdbuf -oL python3 -u 2\\n    echo 1\\n    echo rerun\\n    date\\n    sleep 1\\ndone 2>&1 | tee -a /opt/captures/screenlogs/1/log.txt\\n\"'"
      ]
     },
     "execution_count": 3,
     "metadata": {},
     "output_type": "execute_result"
    }
   ],
   "source": [
    "from string import Template\n",
    "Template('''screen -dSm \"$app\" bash -c \"\n",
    "echo running $app\n",
    "while true; do\n",
    "    echo running $app\n",
    "    stdbuf -oL python3 -u $script\n",
    "    echo $app\n",
    "    echo rerun\n",
    "    date\n",
    "    sleep 1\n",
    "done 2>&1 | tee -a /opt/captures/screenlogs/$app/log.txt\n",
    "\"''').safe_substitute(app=1,script=2)"
   ]
  },
  {
   "cell_type": "code",
   "execution_count": null,
   "id": "b0f3b7da-db4f-45e0-ba08-544bd8b0f15f",
   "metadata": {},
   "outputs": [],
   "source": []
  }
 ],
 "metadata": {
  "kernelspec": {
   "display_name": "Python 3 (ipykernel)",
   "language": "python",
   "name": "python3"
  },
  "language_info": {
   "codemirror_mode": {
    "name": "ipython",
    "version": 3
   },
   "file_extension": ".py",
   "mimetype": "text/x-python",
   "name": "python",
   "nbconvert_exporter": "python",
   "pygments_lexer": "ipython3",
   "version": "3.10.12"
  }
 },
 "nbformat": 4,
 "nbformat_minor": 5
}
