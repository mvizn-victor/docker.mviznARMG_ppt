{
 "cells": [
  {
   "cell_type": "code",
   "execution_count": 1,
   "id": "c7b13e32-4311-43bb-b01f-bd31831455ee",
   "metadata": {
    "tags": []
   },
   "outputs": [
    {
     "name": "stderr",
     "output_type": "stream",
     "text": [
      "<>:698: SyntaxWarning: \"is\" with a literal. Did you mean \"==\"?\n"
     ]
    },
    {
     "name": "stdout",
     "output_type": "stream",
     "text": [
      "to disable printing: helperfunprint=0\n",
      "pip install rpy2\n"
     ]
    },
    {
     "name": "stderr",
     "output_type": "stream",
     "text": [
      "<ipython-input-1-7f5f83fd390a>:698: SyntaxWarning: \"is\" with a literal. Did you mean \"==\"?\n",
      "  if x is 0:\n"
     ]
    }
   ],
   "source": [
    "%run -i ~/helperfun.ipy"
   ]
  },
  {
   "cell_type": "code",
   "execution_count": 2,
   "id": "f5e15aa1-8e62-43ee-9173-e3d721009aae",
   "metadata": {},
   "outputs": [],
   "source": [
    "class YOLO:\n",
    "    def __init__(self,weightsfile,cfgfile=None,namesfile=None,size=None):\n",
    "        if cfgfile is None:\n",
    "            cfgfile=weightsfile[:-len('.weights')]+'.cfg'            \n",
    "        if namesfile is None:\n",
    "            namesfile=weightsfile[:-len('.weights')]+'.names'\n",
    "        cfg=dict()\n",
    "        for line in open(cfgfile):\n",
    "            if '#' in line:continue\n",
    "            try:\n",
    "                k,v=line.strip().split('=')[:2]\n",
    "                cfg[k]=v\n",
    "            except:\n",
    "                pass\n",
    "        if size is None:\n",
    "            size=(int(cfg['width']),int(cfg['height']))\n",
    "        self.net=cv2.dnn.readNet(weightsfile, cfgfile)\n",
    "        self.classes=open(namesfile).read().rstrip().split('\\n')\n",
    "        self.net.setPreferableBackend(cv2.dnn.DNN_BACKEND_CUDA)\n",
    "        self.net.setPreferableTarget(cv2.dnn.DNN_TARGET_CUDA)\n",
    "        self.model = cv2.dnn_DetectionModel(self.net)\n",
    "        self.model.setInputParams(size=size, scale=1/255)\n",
    "    def infer(self, frame, CONFIDENCE_THRESHOLD=0.2, NMS_THRESHOLD=0.4):\n",
    "        classes, scores, boxes = self.model.detect(frame, CONFIDENCE_THRESHOLD, NMS_THRESHOLD)\n",
    "        classes = list(self.classes[geti0(i)] for i in classes)\n",
    "        scores = list(geti0(score) for score in scores)\n",
    "        return classes, scores, boxes\n",
    "    def inferold(self, frame, thresh=0.2):\n",
    "        classes, scores, boxes = self.infer(frame, thresh)\n",
    "        results = []\n",
    "        for (classid, score, box) in zip(classes, scores, boxes):\n",
    "            result=['',0,[0,0,0,0]]\n",
    "            result[0]=classid\n",
    "            result[1]=score\n",
    "            box[0]=box[0]+box[2]/2\n",
    "            box[1]=box[1]+box[3]/2\n",
    "            result[2]=box\n",
    "            results.append(result)\n",
    "        return results\n"
   ]
  },
  {
   "cell_type": "code",
   "execution_count": 3,
   "id": "40443a12-673e-4761-a631-77724127357a",
   "metadata": {
    "tags": []
   },
   "outputs": [],
   "source": [
    "yolo1=YOLO('TCDS/weights/TCDSnp.weights')\n",
    "yolo2=YOLO('TCDS/weights/TCDSsubyolo.weights')"
   ]
  },
  {
   "cell_type": "code",
   "execution_count": null,
   "id": "f49ebd2c-56e2-4e86-855f-f687bbe8e4f0",
   "metadata": {
    "tags": []
   },
   "outputs": [],
   "source": []
  },
  {
   "cell_type": "code",
   "execution_count": 5,
   "id": "518af0ce-38bb-47f8-8116-547015277163",
   "metadata": {
    "tags": []
   },
   "outputs": [
    {
     "name": "stdout",
     "output_type": "stream",
     "text": [
      "SUBYOLO shape (720, 1280, 3)\n",
      "SUBYOLO ([], [], ())\n",
      "SUBYOLO shape (720, 1280, 3)\n",
      "SUBYOLO ([], [], ())\n",
      "SUBYOLO shape (720, 1280, 3)\n",
      "SUBYOLO ([], [], ())\n",
      "SUBYOLO shape (720, 1280, 3)\n",
      "SUBYOLO ([], [], ())\n",
      "SUBYOLO shape (720, 1280, 3)\n",
      "SUBYOLO ([], [], ())\n",
      "SUBYOLO shape (720, 1280, 3)\n",
      "SUBYOLO ([], [], ())\n",
      "SUBYOLO shape (720, 1280, 3)\n",
      "SUBYOLO ([], [], ())\n",
      "SUBYOLO shape (720, 1280, 3)\n",
      "SUBYOLO ([], [], ())\n",
      "SUBYOLO shape (720, 1280, 3)\n",
      "SUBYOLO ([], [], ())\n",
      "SUBYOLO shape (720, 1280, 3)\n",
      "SUBYOLO ([], [], ())\n",
      "SUBYOLO shape (720, 1280, 3)\n",
      "SUBYOLO ([], [], ())\n",
      "SUBYOLO shape (720, 1280, 3)\n",
      "SUBYOLO ([], [], ())\n",
      "SUBYOLO shape (720, 1280, 3)\n",
      "SUBYOLO ([], [], ())\n",
      "SUBYOLO shape (720, 1280, 3)\n",
      "SUBYOLO ([], [], ())\n",
      "SUBYOLO shape (720, 1280, 3)\n",
      "SUBYOLO ([], [], ())\n",
      "SUBYOLO shape (720, 1280, 3)\n",
      "SUBYOLO ([], [], ())\n",
      "SUBYOLO shape (720, 1280, 3)\n",
      "SUBYOLO ([], [], ())\n",
      "SUBYOLO shape (720, 1280, 3)\n",
      "SUBYOLO ([], [], ())\n",
      "SUBYOLO shape (720, 1280, 3)\n",
      "SUBYOLO ([], [], ())\n",
      "SUBYOLO shape (720, 1280, 3)\n",
      "SUBYOLO ([], [], ())\n",
      "SUBYOLO shape (720, 1280, 3)\n",
      "SUBYOLO ([], [], ())\n",
      "SUBYOLO shape (720, 1280, 3)\n",
      "SUBYOLO ([], [], ())\n",
      "SUBYOLO shape (720, 1280, 3)\n",
      "SUBYOLO ([], [], ())\n",
      "SUBYOLO shape (720, 1280, 3)\n",
      "SUBYOLO ([], [], ())\n",
      "SUBYOLO shape (720, 1280, 3)\n",
      "SUBYOLO ([], [], ())\n",
      "SUBYOLO shape (720, 1280, 3)\n",
      "SUBYOLO ([], [], ())\n",
      "SUBYOLO shape (720, 1280, 3)\n",
      "SUBYOLO ([], [], ())\n",
      "SUBYOLO shape (720, 1280, 3)\n",
      "SUBYOLO ([], [], ())\n",
      "SUBYOLO shape (720, 1280, 3)\n",
      "SUBYOLO ([], [], ())\n",
      "SUBYOLO shape (720, 1280, 3)\n",
      "SUBYOLO ([], [], ())\n",
      "SUBYOLO shape (720, 1280, 3)\n",
      "SUBYOLO ([], [], ())\n",
      "SUBYOLO shape (720, 1280, 3)\n",
      "SUBYOLO ([], [], ())\n",
      "SUBYOLO shape (720, 1280, 3)\n",
      "SUBYOLO ([], [], ())\n",
      "SUBYOLO shape (720, 1280, 3)\n",
      "SUBYOLO ([], [], ())\n",
      "SUBYOLO shape (720, 1280, 3)\n",
      "SUBYOLO ([], [], ())\n",
      "SUBYOLO shape (720, 1280, 3)\n",
      "SUBYOLO ([], [], ())\n",
      "SUBYOLO shape (720, 1280, 3)\n",
      "SUBYOLO ([], [], ())\n",
      "SUBYOLO shape (720, 1280, 3)\n",
      "SUBYOLO ([], [], ())\n",
      "SUBYOLO shape (720, 1280, 3)\n",
      "SUBYOLO ([], [], ())\n",
      "SUBYOLO shape (720, 1280, 3)\n",
      "SUBYOLO ([], [], ())\n",
      "SUBYOLO shape (720, 1280, 3)\n",
      "SUBYOLO ([], [], ())\n",
      "SUBYOLO shape (720, 1280, 3)\n",
      "SUBYOLO ([], [], ())\n",
      "SUBYOLO shape (720, 1280, 3)\n",
      "SUBYOLO ([], [], ())\n",
      "SUBYOLO shape (720, 1280, 3)\n",
      "SUBYOLO ([], [], ())\n",
      "SUBYOLO shape (720, 1280, 3)\n",
      "SUBYOLO ([], [], ())\n",
      "SUBYOLO shape (720, 1280, 3)\n",
      "SUBYOLO ([], [], ())\n",
      "SUBYOLO shape (720, 1280, 3)\n",
      "SUBYOLO ([], [], ())\n",
      "SUBYOLO shape (720, 1280, 3)\n",
      "SUBYOLO ([], [], ())\n",
      "SUBYOLO shape (720, 1280, 3)\n",
      "SUBYOLO ([], [], ())\n",
      "SUBYOLO shape (720, 1280, 3)\n",
      "SUBYOLO ([], [], ())\n",
      "SUBYOLO shape (720, 1280, 3)\n",
      "SUBYOLO ([], [], ())\n",
      "SUBYOLO shape (720, 1280, 3)\n",
      "SUBYOLO ([], [], ())\n",
      "SUBYOLO shape (720, 1280, 3)\n",
      "SUBYOLO ([], [], ())\n",
      "SUBYOLO shape (720, 1280, 3)\n",
      "SUBYOLO ([], [], ())\n",
      "SUBYOLO shape (720, 1280, 3)\n",
      "SUBYOLO ([], [], ())\n",
      "SUBYOLO shape (720, 1280, 3)\n",
      "SUBYOLO ([], [], ())\n",
      "SUBYOLO shape (720, 1280, 3)\n",
      "SUBYOLO ([], [], ())\n",
      "SUBYOLO shape (720, 1280, 3)\n",
      "SUBYOLO ([], [], ())\n",
      "SUBYOLO shape (720, 1280, 3)\n",
      "SUBYOLO ([], [], ())\n",
      "SUBYOLO shape (720, 1280, 3)\n",
      "SUBYOLO ([], [], ())\n",
      "SUBYOLO shape (720, 1280, 3)\n",
      "SUBYOLO ([], [], ())\n",
      "SUBYOLO shape (720, 1280, 3)\n",
      "SUBYOLO ([], [], ())\n",
      "SUBYOLO shape (720, 1280, 3)\n",
      "SUBYOLO ([], [], ())\n",
      "SUBYOLO shape (720, 1280, 3)\n",
      "SUBYOLO ([], [], ())\n",
      "SUBYOLO shape (720, 1280, 3)\n",
      "SUBYOLO ([], [], ())\n",
      "SUBYOLO shape (720, 1280, 3)\n",
      "SUBYOLO ([], [], ())\n",
      "SUBYOLO shape (720, 1280, 3)\n",
      "SUBYOLO ([], [], ())\n",
      "SUBYOLO shape (720, 1280, 3)\n",
      "SUBYOLO ([], [], ())\n",
      "SUBYOLO shape (720, 1280, 3)\n",
      "SUBYOLO ([], [], ())\n",
      "SUBYOLO shape (720, 1280, 3)\n",
      "SUBYOLO ([], [], ())\n",
      "SUBYOLO shape (720, 1280, 3)\n",
      "SUBYOLO ([], [], ())\n"
     ]
    }
   ],
   "source": [
    "l__imf=glob.glob('/tmp/7101/*.jpg')\n",
    "for imf in l__imf:\n",
    "    im=cv2.imread(imf)\n",
    "    yolo1=\n",
    "    res=yolo2.infer(im,CONFIDENCE_THRESHOLD=0.01)\n",
    "    print('SUBYOLO shape',im.shape)\n",
    "    print('SUBYOLO',res)"
   ]
  },
  {
   "cell_type": "code",
   "execution_count": 37,
   "id": "96128ee7-3cd5-4ed9-a26f-2b94ec5a7eca",
   "metadata": {
    "tags": []
   },
   "outputs": [
    {
     "data": {
      "text/plain": [
       "225"
      ]
     },
     "execution_count": 37,
     "metadata": {},
     "output_type": "execute_result"
    }
   ],
   "source": [
    "l__imf=glob.glob('/tmp/imgs/*.jpg')\n",
    "imswk(cv2.imread(l__imf[0]))"
   ]
  },
  {
   "cell_type": "code",
   "execution_count": 7,
   "id": "e4b0ee99-cb27-4036-a26e-56b65e495fbe",
   "metadata": {
    "tags": []
   },
   "outputs": [
    {
     "name": "stdout",
     "output_type": "stream",
     "text": [
      "YOLO (['np'], [0.9861134], array([[321,  39, 122, 172]], dtype=int32))\n",
      "SUBYOLO shape (162, 122, 3)\n",
      "SUBYOLO (['t'], [0.24361308], array([[13, 75, 76, 87]], dtype=int32))\n",
      "YOLO (['np'], [0.88000286], array([[770, 389, 140, 110]], dtype=int32))\n",
      "SUBYOLO shape (186, 140, 3)\n",
      "SUBYOLO ([], [], ())\n",
      "YOLO (['np'], [0.9436585], array([[323,   5, 117, 129]], dtype=int32))\n",
      "SUBYOLO shape (156, 117, 3)\n",
      "SUBYOLO ([], [], ())\n",
      "YOLO (['np'], [0.99562055], array([[763, 274, 157, 101]], dtype=int32))\n",
      "SUBYOLO shape (209, 157, 3)\n",
      "SUBYOLO ([], [], ())\n",
      "YOLO (['np'], [0.98550534], array([[502,  27, 130, 116]], dtype=int32))\n",
      "SUBYOLO shape (173, 130, 3)\n",
      "SUBYOLO ([], [], ())\n",
      "YOLO (['np'], [0.9032781], array([[774, 387, 133, 109]], dtype=int32))\n",
      "SUBYOLO shape (177, 133, 3)\n",
      "SUBYOLO ([], [], ())\n",
      "YOLO (['np'], [0.9982143], array([[303, 382, 143, 162]], dtype=int32))\n",
      "SUBYOLO shape (190, 143, 3)\n",
      "SUBYOLO ([], [], ())\n",
      "YOLO (['np'], [0.98849994], array([[516, 269, 123, 132]], dtype=int32))\n",
      "SUBYOLO shape (164, 123, 3)\n",
      "SUBYOLO ([], [], ())\n",
      "YOLO (['np'], [0.6137977], array([[1027,  432,  134,   96]], dtype=int32))\n",
      "SUBYOLO shape (178, 134, 3)\n",
      "SUBYOLO ([], [], ())\n",
      "YOLO (['np'], [0.87223995], array([[769, 386, 141, 112]], dtype=int32))\n",
      "SUBYOLO shape (188, 141, 3)\n",
      "SUBYOLO ([], [], ())\n",
      "YOLO (['np'], [0.95940846], array([[757, 304, 163, 111]], dtype=int32))\n",
      "SUBYOLO shape (217, 163, 3)\n",
      "SUBYOLO ([], [], ())\n",
      "YOLO (['np'], [0.6390915], array([[770, 358, 141, 106]], dtype=int32))\n",
      "SUBYOLO shape (188, 141, 3)\n",
      "SUBYOLO ([], [], ())\n",
      "YOLO (['np'], [0.9909681], array([[313, 236, 133, 161]], dtype=int32))\n",
      "SUBYOLO shape (177, 133, 3)\n",
      "SUBYOLO ([], [], ())\n",
      "YOLO (['np'], [0.9495337], array([[418, 377, 129,  91]], dtype=int32))\n",
      "SUBYOLO shape (172, 129, 3)\n",
      "SUBYOLO ([], [], ())\n",
      "YOLO (['np'], [0.83276224], array([[519, 423, 123, 112]], dtype=int32))\n",
      "SUBYOLO shape (164, 123, 3)\n",
      "SUBYOLO ([], [], ())\n",
      "YOLO (['np'], [0.83736205], array([[518, 581, 130, 119]], dtype=int32))\n",
      "SUBYOLO shape (139, 130, 3)\n",
      "SUBYOLO ([], [], ())\n",
      "YOLO (['np'], [0.96791667], array([[516, 179, 121, 110]], dtype=int32))\n",
      "SUBYOLO shape (161, 121, 3)\n",
      "SUBYOLO ([], [], ())\n",
      "YOLO (['np'], [0.67973924], array([[390,  93, 146,  90]], dtype=int32))\n",
      "SUBYOLO shape (194, 146, 3)\n",
      "SUBYOLO ([], [], ())\n",
      "YOLO (['np'], [0.9924246], array([[304, 470, 142, 161]], dtype=int32))\n",
      "SUBYOLO shape (189, 142, 3)\n",
      "SUBYOLO ([], [], ())\n",
      "YOLO (['np'], [0.9484435], array([[416, 379, 131,  94]], dtype=int32))\n",
      "SUBYOLO shape (174, 131, 3)\n",
      "SUBYOLO ([], [], ())\n",
      "YOLO (['np'], [0.9375692], array([[417, 381, 131,  93]], dtype=int32))\n",
      "SUBYOLO shape (174, 131, 3)\n",
      "SUBYOLO ([], [], ())\n",
      "YOLO (['np'], [0.8853594], array([[770, 380, 137, 103]], dtype=int32))\n",
      "SUBYOLO shape (182, 137, 3)\n",
      "SUBYOLO ([], [], ())\n",
      "YOLO (['np'], [0.99216044], array([[317, 151, 131, 164]], dtype=int32))\n",
      "SUBYOLO shape (174, 131, 3)\n",
      "SUBYOLO ([], [], ())\n"
     ]
    },
    {
     "ename": "KeyboardInterrupt",
     "evalue": "",
     "output_type": "error",
     "traceback": [
      "\u001b[0;31m---------------------------------------------------------------------------\u001b[0m",
      "\u001b[0;31mKeyboardInterrupt\u001b[0m                         Traceback (most recent call last)",
      "\u001b[0;32m<ipython-input-7-4f2f9e4c2219>\u001b[0m in \u001b[0;36m<module>\u001b[0;34m\u001b[0m\n\u001b[1;32m     10\u001b[0m             \u001b[0mprint\u001b[0m\u001b[0;34m(\u001b[0m\u001b[0;34m'SUBYOLO'\u001b[0m\u001b[0;34m,\u001b[0m\u001b[0myolo2\u001b[0m\u001b[0;34m.\u001b[0m\u001b[0minfer\u001b[0m\u001b[0;34m(\u001b[0m\u001b[0mim2\u001b[0m\u001b[0;34m,\u001b[0m\u001b[0mCONFIDENCE_THRESHOLD\u001b[0m\u001b[0;34m=\u001b[0m\u001b[0;36m0.01\u001b[0m\u001b[0;34m)\u001b[0m\u001b[0;34m)\u001b[0m\u001b[0;34m\u001b[0m\u001b[0;34m\u001b[0m\u001b[0m\n\u001b[1;32m     11\u001b[0m             \u001b[0;31m#print(yolo2.infer(im2))\u001b[0m\u001b[0;34m\u001b[0m\u001b[0;34m\u001b[0m\u001b[0;34m\u001b[0m\u001b[0m\n\u001b[0;32m---> 12\u001b[0;31m             \u001b[0mimswk\u001b[0m\u001b[0;34m(\u001b[0m\u001b[0mim2\u001b[0m\u001b[0;34m)\u001b[0m\u001b[0;34m\u001b[0m\u001b[0;34m\u001b[0m\u001b[0m\n\u001b[0m",
      "\u001b[0;32m<ipython-input-1-7f5f83fd390a>\u001b[0m in \u001b[0;36mimswk\u001b[0;34m(frame, t, name, s)\u001b[0m\n\u001b[1;32m    561\u001b[0m     \u001b[0;32mif\u001b[0m \u001b[0mk\u001b[0m\u001b[0;34m==\u001b[0m\u001b[0mord\u001b[0m\u001b[0;34m(\u001b[0m\u001b[0;34m'q'\u001b[0m\u001b[0;34m)\u001b[0m\u001b[0;34m:\u001b[0m\u001b[0;34m\u001b[0m\u001b[0;34m\u001b[0m\u001b[0m\n\u001b[1;32m    562\u001b[0m         \u001b[0mcv2\u001b[0m\u001b[0;34m.\u001b[0m\u001b[0mdestroyAllWindows\u001b[0m\u001b[0;34m(\u001b[0m\u001b[0;34m)\u001b[0m\u001b[0;34m\u001b[0m\u001b[0;34m\u001b[0m\u001b[0m\n\u001b[0;32m--> 563\u001b[0;31m         \u001b[0;32mraise\u001b[0m \u001b[0mKeyboardInterrupt\u001b[0m\u001b[0;34m\u001b[0m\u001b[0;34m\u001b[0m\u001b[0m\n\u001b[0m\u001b[1;32m    564\u001b[0m     \u001b[0;32mreturn\u001b[0m \u001b[0mk\u001b[0m\u001b[0;34m\u001b[0m\u001b[0;34m\u001b[0m\u001b[0m\n\u001b[1;32m    565\u001b[0m \u001b[0;32mdef\u001b[0m \u001b[0mdaw\u001b[0m\u001b[0;34m(\u001b[0m\u001b[0;34m)\u001b[0m\u001b[0;34m:\u001b[0m\u001b[0;34m\u001b[0m\u001b[0;34m\u001b[0m\u001b[0m\n",
      "\u001b[0;31mKeyboardInterrupt\u001b[0m: "
     ]
    }
   ],
   "source": [
    "l__imf=glob.glob('/tmp/7101/*.jpg')\n",
    "for imf in l__imf[:]:\n",
    "    im=cv2.imread(imf)\n",
    "    res=yolo1.infer(im,CONFIDENCE_THRESHOLD=0.01)\n",
    "    print('YOLO',res)\n",
    "    if 1:\n",
    "        for label,prob,rect in zip(*res):\n",
    "            im2=im[rect[1]:rect[1]+rect[2]*4//3,rect[0]:rect[0]+rect[2]]\n",
    "            print('SUBYOLO shape',im2.shape)\n",
    "            print('SUBYOLO',yolo2.infer(im2,CONFIDENCE_THRESHOLD=0.01))\n",
    "            #print(yolo2.infer(im2))\n",
    "            imswk(im2)"
   ]
  },
  {
   "cell_type": "code",
   "execution_count": null,
   "id": "f3949713-9599-42f0-893c-c71424e37220",
   "metadata": {},
   "outputs": [],
   "source": []
  }
 ],
 "metadata": {
  "kernelspec": {
   "display_name": "Python 3",
   "language": "python",
   "name": "python3"
  },
  "language_info": {
   "codemirror_mode": {
    "name": "ipython",
    "version": 3
   },
   "file_extension": ".py",
   "mimetype": "text/x-python",
   "name": "python",
   "nbconvert_exporter": "python",
   "pygments_lexer": "ipython3",
   "version": "3.8.10"
  }
 },
 "nbformat": 4,
 "nbformat_minor": 5
}
