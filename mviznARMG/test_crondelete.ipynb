{
 "cells": [
  {
   "cell_type": "code",
   "execution_count": 3,
   "metadata": {},
   "outputs": [],
   "source": [
    "import os\n",
    "import glob\n",
    "\n",
    "def get_machine_storage(d):\n",
    "    result=os.statvfs(d)\n",
    "    block_size=result.f_frsize\n",
    "    total_blocks=result.f_blocks\n",
    "    free_blocks=result.f_bfree\n",
    "    # giga=1024*1024*1024\n",
    "    giga=1000*1000*1000\n",
    "    total_size=total_blocks*block_size/giga\n",
    "    free_size=free_blocks*block_size/giga\n",
    "    #print('total_size = %s' % total_size)\n",
    "    #print('free_size = %s' % free_size)\n",
    "    return free_size\n",
    "if 0:\n",
    "    for D in sorted(glob.glob('/opt/captures/vids/*')):\n",
    "        if get_machine_storage('/mnt/d')<300:\n",
    "            shutil.rmtree(D)\n",
    "\n",
    "    "
   ]
  },
  {
   "cell_type": "code",
   "execution_count": 5,
   "metadata": {},
   "outputs": [
    {
     "data": {
      "text/plain": [
       "88.492703744"
      ]
     },
     "execution_count": 5,
     "metadata": {},
     "output_type": "execute_result"
    }
   ],
   "source": [
    "get_machine_storage('/')"
   ]
  }
 ],
 "metadata": {
  "kernelspec": {
   "display_name": "Python 3",
   "language": "python",
   "name": "python3"
  },
  "language_info": {
   "codemirror_mode": {
    "name": "ipython",
    "version": 3
   },
   "file_extension": ".py",
   "mimetype": "text/x-python",
   "name": "python",
   "nbconvert_exporter": "python",
   "pygments_lexer": "ipython3",
   "version": "3.7.4"
  }
 },
 "nbformat": 4,
 "nbformat_minor": 2
}
